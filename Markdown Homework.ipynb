{
 "cells": [
  {
   "cell_type": "markdown",
   "metadata": {},
   "source": [
    "The Data science Handbook - Chapter 1 summary\n",
    "=========================\n",
    "\n",
    "The book is can be found at [The Data Science Handbook](https://gumroad.com/d/d18d49642acc81da3c761a603f6c857a)\n",
    "\n",
    "> Key points from D.J. Patil's interview\n",
    "\n",
    "> * It is difficult for academics to transition from academia to the corporate sector\n",
    "> * one should br ready to **Fail** many times before getting the first break\n",
    "> * People coming from academia sometimes have a one dimensional outlook\n",
    "> * However ***Data Science*** teams are different. it involves a lot of ***team work***\n",
    "> * The type of person more suited for data science career have other core skills other than the data skills. For patil, it is **UX** and **Data**"
   ]
  },
  {
   "cell_type": "code",
   "execution_count": null,
   "metadata": {
    "collapsed": true
   },
   "outputs": [],
   "source": []
  },
  {
   "cell_type": "code",
   "execution_count": null,
   "metadata": {
    "collapsed": true
   },
   "outputs": [],
   "source": []
  }
 ],
 "metadata": {
  "kernelspec": {
   "display_name": "Python 2",
   "language": "python",
   "name": "python2"
  },
  "language_info": {
   "codemirror_mode": {
    "name": "ipython",
    "version": 2
   },
   "file_extension": ".py",
   "mimetype": "text/x-python",
   "name": "python",
   "nbconvert_exporter": "python",
   "pygments_lexer": "ipython2",
   "version": "2.7.13"
  }
 },
 "nbformat": 4,
 "nbformat_minor": 2
}
